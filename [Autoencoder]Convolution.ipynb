{
  "nbformat": 4,
  "nbformat_minor": 0,
  "metadata": {
    "colab": {
      "name": "[Autoencoder]Convolution.ipynb",
      "provenance": [],
      "include_colab_link": true
    },
    "kernelspec": {
      "name": "python3",
      "display_name": "Python 3"
    },
    "accelerator": "GPU"
  },
  "cells": [
    {
      "cell_type": "markdown",
      "metadata": {
        "id": "view-in-github",
        "colab_type": "text"
      },
      "source": [
        "<a href=\"https://colab.research.google.com/github/ChouNguyen/keras/blob/master/%5BAutoencoder%5DConvolution.ipynb\" target=\"_parent\"><img src=\"https://colab.research.google.com/assets/colab-badge.svg\" alt=\"Open In Colab\"/></a>"
      ]
    },
    {
      "cell_type": "code",
      "metadata": {
        "id": "ZZ5fNJlKZFnc",
        "colab_type": "code",
        "outputId": "36bd50d8-b1d6-4498-a039-ed5c56a8c160",
        "colab": {
          "base_uri": "https://localhost:8080/",
          "height": 35
        }
      },
      "source": [
        "%tensorflow_version 2.x\n",
        "import tensorflow as tf"
      ],
      "execution_count": 0,
      "outputs": [
        {
          "output_type": "stream",
          "text": [
            "TensorFlow 2.x selected.\n"
          ],
          "name": "stdout"
        }
      ]
    },
    {
      "cell_type": "code",
      "metadata": {
        "id": "BlbO2IW8ZJ68",
        "colab_type": "code",
        "outputId": "c9e665c7-25a2-45de-d9f2-90803f5f734e",
        "colab": {
          "base_uri": "https://localhost:8080/",
          "height": 35
        }
      },
      "source": [
        "print(tf.__version__)"
      ],
      "execution_count": 0,
      "outputs": [
        {
          "output_type": "stream",
          "text": [
            "2.0.0\n"
          ],
          "name": "stdout"
        }
      ]
    },
    {
      "cell_type": "code",
      "metadata": {
        "id": "AuzuqNieZMAK",
        "colab_type": "code",
        "outputId": "e6799eb7-7487-4f17-f542-60afebe08328",
        "colab": {
          "base_uri": "https://localhost:8080/",
          "height": 73
        }
      },
      "source": [
        "mnist = tf.keras.datasets.mnist\n",
        "(X_train, y_train), (X_test, y_test) = mnist.load_data()"
      ],
      "execution_count": 0,
      "outputs": [
        {
          "output_type": "stream",
          "text": [
            "Downloading data from https://storage.googleapis.com/tensorflow/tf-keras-datasets/mnist.npz\n",
            "11493376/11490434 [==============================] - 0s 0us/step\n"
          ],
          "name": "stdout"
        }
      ]
    },
    {
      "cell_type": "code",
      "metadata": {
        "id": "yCzj0j5LZORE",
        "colab_type": "code",
        "outputId": "aac52d01-97d3-47bb-83b4-43d22083c8a5",
        "colab": {
          "base_uri": "https://localhost:8080/",
          "height": 35
        }
      },
      "source": [
        "import numpy as np\n",
        "\n",
        "X_train = X_train.astype('float32') / 255\n",
        "X_test = X_test.astype('float32') / 255\n",
        "\n",
        "X_train = X_train.reshape(len(X_train), 28, 28, 1)\n",
        "X_test = X_test.reshape(len(X_test), 28, 28, 1)\n",
        "\n",
        "print(X_train.shape, X_test.shape)"
      ],
      "execution_count": 0,
      "outputs": [
        {
          "output_type": "stream",
          "text": [
            "(60000, 28, 28, 1) (10000, 28, 28, 1)\n"
          ],
          "name": "stdout"
        }
      ]
    },
    {
      "cell_type": "code",
      "metadata": {
        "id": "Eokz_kipZS9O",
        "colab_type": "code",
        "colab": {}
      },
      "source": [
        "from tensorflow.keras.layers import Input, Dense, Conv2D, MaxPooling2D, UpSampling2D\n",
        "from tensorflow.keras import Model"
      ],
      "execution_count": 0,
      "outputs": []
    },
    {
      "cell_type": "code",
      "metadata": {
        "id": "EEpouXZQZcgw",
        "colab_type": "code",
        "colab": {}
      },
      "source": [
        "input_img = Input(shape=(28, 28, 1))\n",
        "\n",
        "x = Conv2D(16, (3, 3), activation='relu', padding='same')(input_img)\n",
        "x = MaxPooling2D((2, 2), padding='same')(x)\n",
        "x = Conv2D(8, (3, 3), activation='relu', padding='same')(x)\n",
        "x = MaxPooling2D((2, 2), padding='same')(x)\n",
        "x = Conv2D(8, (3, 3), activation='relu', padding='same')(x)\n",
        "encoded = MaxPooling2D((2, 2), padding='same')(x)\n",
        "\n",
        "x = Conv2D(8, (3, 3), activation='relu', padding='same')(encoded)\n",
        "x = UpSampling2D((2, 2))(x)\n",
        "x = Conv2D(8, (3, 3), activation='relu', padding='same')(x)\n",
        "x = UpSampling2D((2, 2))(x)\n",
        "x = Conv2D(16, (3, 3), activation='relu')(x)\n",
        "x = UpSampling2D((2, 2))(x)\n",
        "decoded = Conv2D(1, (3, 3), activation='sigmoid', padding='same')(x)\n",
        "\n",
        "autoencoder = Model(input_img, decoded)\n",
        "autoencoder.compile(optimizer='adam', loss='binary_crossentropy')"
      ],
      "execution_count": 0,
      "outputs": []
    },
    {
      "cell_type": "code",
      "metadata": {
        "id": "Dbxv5HazZ0p9",
        "colab_type": "code",
        "outputId": "c34412e0-947b-487d-d64e-61f0e9ffa144",
        "colab": {
          "base_uri": "https://localhost:8080/",
          "height": 1000
        }
      },
      "source": [
        "autoencoder.fit(X_train, X_train,\n",
        "               epochs=50,\n",
        "               batch_size=128,\n",
        "               shuffle=True,\n",
        "               validation_data=(X_test, X_test))"
      ],
      "execution_count": 0,
      "outputs": [
        {
          "output_type": "stream",
          "text": [
            "Train on 60000 samples, validate on 10000 samples\n",
            "Epoch 1/50\n",
            "60000/60000 [==============================] - 10s 162us/sample - loss: 0.2062 - val_loss: 0.1469\n",
            "Epoch 2/50\n",
            "60000/60000 [==============================] - 5s 89us/sample - loss: 0.1366 - val_loss: 0.1282\n",
            "Epoch 3/50\n",
            "60000/60000 [==============================] - 5s 90us/sample - loss: 0.1255 - val_loss: 0.1216\n",
            "Epoch 4/50\n",
            "60000/60000 [==============================] - 5s 90us/sample - loss: 0.1191 - val_loss: 0.1152\n",
            "Epoch 5/50\n",
            "60000/60000 [==============================] - 5s 89us/sample - loss: 0.1149 - val_loss: 0.1120\n",
            "Epoch 6/50\n",
            "60000/60000 [==============================] - 5s 89us/sample - loss: 0.1121 - val_loss: 0.1108\n",
            "Epoch 7/50\n",
            "60000/60000 [==============================] - 5s 89us/sample - loss: 0.1101 - val_loss: 0.1077\n",
            "Epoch 8/50\n",
            "60000/60000 [==============================] - 5s 89us/sample - loss: 0.1084 - val_loss: 0.1065\n",
            "Epoch 9/50\n",
            "60000/60000 [==============================] - 5s 89us/sample - loss: 0.1070 - val_loss: 0.1051\n",
            "Epoch 10/50\n",
            "60000/60000 [==============================] - 5s 88us/sample - loss: 0.1058 - val_loss: 0.1040\n",
            "Epoch 11/50\n",
            "60000/60000 [==============================] - 5s 89us/sample - loss: 0.1048 - val_loss: 0.1028\n",
            "Epoch 12/50\n",
            "60000/60000 [==============================] - 5s 89us/sample - loss: 0.1039 - val_loss: 0.1023\n",
            "Epoch 13/50\n",
            "60000/60000 [==============================] - 5s 89us/sample - loss: 0.1031 - val_loss: 0.1016\n",
            "Epoch 14/50\n",
            "60000/60000 [==============================] - 5s 89us/sample - loss: 0.1023 - val_loss: 0.1008\n",
            "Epoch 15/50\n",
            "60000/60000 [==============================] - 5s 89us/sample - loss: 0.1016 - val_loss: 0.1000\n",
            "Epoch 16/50\n",
            "60000/60000 [==============================] - 5s 88us/sample - loss: 0.1010 - val_loss: 0.0993\n",
            "Epoch 17/50\n",
            "60000/60000 [==============================] - 5s 89us/sample - loss: 0.1004 - val_loss: 0.0991\n",
            "Epoch 18/50\n",
            "60000/60000 [==============================] - 5s 89us/sample - loss: 0.0999 - val_loss: 0.0985\n",
            "Epoch 19/50\n",
            "60000/60000 [==============================] - 5s 89us/sample - loss: 0.0995 - val_loss: 0.0980\n",
            "Epoch 20/50\n",
            "60000/60000 [==============================] - 5s 90us/sample - loss: 0.0991 - val_loss: 0.0978\n",
            "Epoch 21/50\n",
            "60000/60000 [==============================] - 6s 93us/sample - loss: 0.0986 - val_loss: 0.0975\n",
            "Epoch 22/50\n",
            "60000/60000 [==============================] - 5s 90us/sample - loss: 0.0984 - val_loss: 0.0972\n",
            "Epoch 23/50\n",
            "60000/60000 [==============================] - 5s 91us/sample - loss: 0.0980 - val_loss: 0.0969\n",
            "Epoch 24/50\n",
            "60000/60000 [==============================] - 5s 90us/sample - loss: 0.0977 - val_loss: 0.0965\n",
            "Epoch 25/50\n",
            "60000/60000 [==============================] - 5s 90us/sample - loss: 0.0974 - val_loss: 0.0960\n",
            "Epoch 26/50\n",
            "60000/60000 [==============================] - 5s 90us/sample - loss: 0.0971 - val_loss: 0.0959\n",
            "Epoch 27/50\n",
            "60000/60000 [==============================] - 5s 90us/sample - loss: 0.0969 - val_loss: 0.0960\n",
            "Epoch 28/50\n",
            "60000/60000 [==============================] - 5s 90us/sample - loss: 0.0966 - val_loss: 0.0953\n",
            "Epoch 29/50\n",
            "60000/60000 [==============================] - 5s 89us/sample - loss: 0.0964 - val_loss: 0.0951\n",
            "Epoch 30/50\n",
            "60000/60000 [==============================] - 5s 90us/sample - loss: 0.0962 - val_loss: 0.0952\n",
            "Epoch 31/50\n",
            "60000/60000 [==============================] - 5s 90us/sample - loss: 0.0960 - val_loss: 0.0951\n",
            "Epoch 32/50\n",
            "60000/60000 [==============================] - 5s 90us/sample - loss: 0.0957 - val_loss: 0.0945\n",
            "Epoch 33/50\n",
            "60000/60000 [==============================] - 5s 89us/sample - loss: 0.0956 - val_loss: 0.0943\n",
            "Epoch 34/50\n",
            "60000/60000 [==============================] - 5s 89us/sample - loss: 0.0954 - val_loss: 0.0944\n",
            "Epoch 35/50\n",
            "60000/60000 [==============================] - 5s 88us/sample - loss: 0.0953 - val_loss: 0.0945\n",
            "Epoch 36/50\n",
            "60000/60000 [==============================] - 5s 87us/sample - loss: 0.0951 - val_loss: 0.0940\n",
            "Epoch 37/50\n",
            "60000/60000 [==============================] - 5s 89us/sample - loss: 0.0949 - val_loss: 0.0938\n",
            "Epoch 38/50\n",
            "60000/60000 [==============================] - 5s 89us/sample - loss: 0.0947 - val_loss: 0.0937\n",
            "Epoch 39/50\n",
            "60000/60000 [==============================] - 5s 89us/sample - loss: 0.0946 - val_loss: 0.0942\n",
            "Epoch 40/50\n",
            "60000/60000 [==============================] - 5s 89us/sample - loss: 0.0945 - val_loss: 0.0934\n",
            "Epoch 41/50\n",
            "60000/60000 [==============================] - 5s 89us/sample - loss: 0.0943 - val_loss: 0.0934\n",
            "Epoch 42/50\n",
            "60000/60000 [==============================] - 5s 88us/sample - loss: 0.0942 - val_loss: 0.0931\n",
            "Epoch 43/50\n",
            "60000/60000 [==============================] - 5s 87us/sample - loss: 0.0941 - val_loss: 0.0931\n",
            "Epoch 44/50\n",
            "60000/60000 [==============================] - 5s 88us/sample - loss: 0.0940 - val_loss: 0.0929\n",
            "Epoch 45/50\n",
            "60000/60000 [==============================] - 5s 88us/sample - loss: 0.0939 - val_loss: 0.0934\n",
            "Epoch 46/50\n",
            "60000/60000 [==============================] - 5s 88us/sample - loss: 0.0938 - val_loss: 0.0928\n",
            "Epoch 47/50\n",
            "60000/60000 [==============================] - 5s 88us/sample - loss: 0.0937 - val_loss: 0.0926\n",
            "Epoch 48/50\n",
            "60000/60000 [==============================] - 5s 88us/sample - loss: 0.0936 - val_loss: 0.0923\n",
            "Epoch 49/50\n",
            "60000/60000 [==============================] - 5s 87us/sample - loss: 0.0935 - val_loss: 0.0924\n",
            "Epoch 50/50\n",
            "60000/60000 [==============================] - 5s 88us/sample - loss: 0.0934 - val_loss: 0.0923\n"
          ],
          "name": "stdout"
        },
        {
          "output_type": "execute_result",
          "data": {
            "text/plain": [
              "<tensorflow.python.keras.callbacks.History at 0x7f7660520a58>"
            ]
          },
          "metadata": {
            "tags": []
          },
          "execution_count": 7
        }
      ]
    },
    {
      "cell_type": "code",
      "metadata": {
        "id": "zC5Cf3t6ci2T",
        "colab_type": "code",
        "colab": {}
      },
      "source": [
        "decoded_imgs = autoencoder.predict(X_test)"
      ],
      "execution_count": 0,
      "outputs": []
    },
    {
      "cell_type": "code",
      "metadata": {
        "id": "-MSTssHacmS2",
        "colab_type": "code",
        "outputId": "355f0dae-f606-46da-b376-041e74a45e0e",
        "colab": {
          "base_uri": "https://localhost:8080/",
          "height": 268
        }
      },
      "source": [
        "import matplotlib.pyplot as plt\n",
        "\n",
        "n = 10\n",
        "plt.figure(figsize=(20, 4))\n",
        "for i in range(n):\n",
        "    ax = plt.subplot(2, n, i+1)\n",
        "    plt.imshow(X_test[i].reshape(28,28))\n",
        "    plt.gray()\n",
        "    ax.get_xaxis().set_visible(False)\n",
        "    ax.get_yaxis().set_visible(False)\n",
        "    \n",
        "    ax = plt.subplot(2, n, i+1+n)\n",
        "    plt.imshow(decoded_imgs[i].reshape(28,28))\n",
        "    plt.gray()\n",
        "    ax.get_xaxis().set_visible(False)\n",
        "    ax.get_yaxis().set_visible(False)\n",
        "    \n",
        "plt.show()"
      ],
      "execution_count": 0,
      "outputs": [
        {
          "output_type": "display_data",
          "data": {
            "image/png": "[encoded data removed]",
            "text/plain": [
              "<Figure size 1440x288 with 20 Axes>"
            ]
          },
          "metadata": {
            "tags": []
          }
        }
      ]
    }
  ]
}